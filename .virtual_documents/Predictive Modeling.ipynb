import os
import random
import numpy as np
import cv2


# pip install keras


# pip install tensorflow


# pip install opencv-python


from tensorflow.keras.preprocessing import image


categories = ['WithMask', 'WithoutMask']


folder = "./Face Mask Dataset/Train"


data = []
for category in categories:
    path = os.path.join(folder, category)

    label = categories.index(category)

    for file in os.listdir(path):
        
        img_path = os.path.join(path,file)
        # print(file)
        # print(img_path)
        img = cv2.imread(img_path)
        img = cv2.resize(img, (224,224))
        # print(img.shape)

        data.append([img,label])


        
        


len(data)


random.shuffle(data)


x = []
y = []

for features, label in data:
    x.append(features)
    y.append(label)


len(x)


len(y)


x = np.array(x)
y = np.array(y)


x.shape      # images


y.shape     # labels


x = x/255
x[0]


from sklearn.model_selection import train_test_split
x_train, x_test, y_train, y_test = train_test_split(x,y,test_size = 0.2)


x_train.shape


x_test.shape


from keras.applications.vgg16 import VGG16


vgg = VGG16()


vgg.summary()


from keras import Sequential


model = Sequential()


for layer in vgg.layers[:-1]:
    model.add(layer)


model.summary()


## to freeze layers --> trainable parameters are freezed, cannot be changed during runtime

for layer in model.layers:
    layer.trainable = False


model.summary()


from keras.layers import Dense


model.add(Dense(1, activation = 'sigmoid'))


model.summary()


model.compile(optimizer='Adam', loss='binary_crossentropy', metrics=['accuracy'])
model.fit(x_train, y_train, epochs=5, validation_data=(x_test, y_test))



## to detect face in video


cap = cv2.VideoCapture(0)


while True:

    ret, frame = cap.read()

    # call the detection function
    img = cv2.resize(frame,(224,224))

    y_pred = detect_face_mask(img)
    print(y_pred)
    
    cv2.imshow("window", frame)

    if cv2.waitKey(1) & 0xFF == ord ('x'):
        break

cv2.destroyAllWindows()



def detect_face_mask(img):
    y_pred = model.predict_classes(img.reshape(1,224,224,3))
    return y_pred[0][0]


sample1 = cv2.imread('sample/1.png')
sample1 = cv2.resize(sample1,(224,224))


detect_face_mask(sample1)


## to see the result on the video

def draw_label(img, pos, bg_color):

    text_size = cv2.getTextSize(text, cv2.FONT_HERSHEY_SIMPLEX, 1, cv2.FILLED)

    end_x = pos[0] + text_size[0][0] + 2
    end_y = pos[1] + text_size[0][1] - 2

    cv2.rectangle(img,pos,(end_x,end_y), bg_color, cv2.FILLED)
    cv2.putText(img,text,pos,cv2.FONT_HERSHEY_SIMPLEX,1,(0,0,0),1,cv2.LINE_AA)
    
